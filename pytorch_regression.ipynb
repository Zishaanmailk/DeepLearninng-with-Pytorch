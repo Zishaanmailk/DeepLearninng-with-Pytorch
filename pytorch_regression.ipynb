{
 "cells": [
  {
   "cell_type": "markdown",
   "id": "c0037ce7-c0a5-4a9e-a057-28917f02e8c1",
   "metadata": {},
   "source": [
    " # Running tensors and pytorch on GPU"
   ]
  },
  {
   "cell_type": "code",
   "execution_count": 1,
   "id": "06fb7263-45d9-4868-9035-2e3b21da5c47",
   "metadata": {},
   "outputs": [],
   "source": [
    "import torch\n",
    "from torch import nn\n",
    "import numpy as np\n",
    "import matplotlib.pyplot as plt \n",
    "import pandas as pd"
   ]
  },
  {
   "cell_type": "markdown",
   "id": "792165c6-6a2b-48c1-b65b-107a1cb60d27",
   "metadata": {},
   "source": [
    "## Easy way"
   ]
  },
  {
   "cell_type": "code",
   "execution_count": 2,
   "id": "555bc593-197b-4d17-8bf0-88193307cd11",
   "metadata": {},
   "outputs": [
    {
     "name": "stdout",
     "output_type": "stream",
     "text": [
      "Fri Oct  3 19:50:44 2025       \n",
      "+-----------------------------------------------------------------------------------------+\n",
      "| NVIDIA-SMI 581.08                 Driver Version: 581.08         CUDA Version: 13.0     |\n",
      "+-----------------------------------------+------------------------+----------------------+\n",
      "| GPU  Name                  Driver-Model | Bus-Id          Disp.A | Volatile Uncorr. ECC |\n",
      "| Fan  Temp   Perf          Pwr:Usage/Cap |           Memory-Usage | GPU-Util  Compute M. |\n",
      "|                                         |                        |               MIG M. |\n",
      "|=========================================+========================+======================|\n",
      "|   0  NVIDIA GeForce RTX 4050 ...  WDDM  |   00000000:01:00.0 Off |                  N/A |\n",
      "| N/A   41C    P8              4W /   35W |       0MiB /   6141MiB |      0%      Default |\n",
      "|                                         |                        |                  N/A |\n",
      "+-----------------------------------------+------------------------+----------------------+\n",
      "\n",
      "+-----------------------------------------------------------------------------------------+\n",
      "| Processes:                                                                              |\n",
      "|  GPU   GI   CI              PID   Type   Process name                        GPU Memory |\n",
      "|        ID   ID                                                               Usage      |\n",
      "|=========================================================================================|\n",
      "|    0   N/A  N/A            3336      C   D:\\anaconda\\python.exe                N/A      |\n",
      "+-----------------------------------------------------------------------------------------+\n"
     ]
    }
   ],
   "source": [
    "!nvidia-smi"
   ]
  },
  {
   "cell_type": "code",
   "execution_count": 3,
   "id": "0354c4f8-61f2-400a-a31c-15759b63f08b",
   "metadata": {},
   "outputs": [
    {
     "data": {
      "text/plain": [
       "True"
      ]
     },
     "execution_count": 3,
     "metadata": {},
     "output_type": "execute_result"
    }
   ],
   "source": [
    "torch.cuda.is_available()"
   ]
  },
  {
   "cell_type": "code",
   "execution_count": 4,
   "id": "23e3a63a-f275-47cd-b921-5058f86d4b5a",
   "metadata": {},
   "outputs": [
    {
     "data": {
      "text/plain": [
       "'cuda'"
      ]
     },
     "execution_count": 4,
     "metadata": {},
     "output_type": "execute_result"
    }
   ],
   "source": [
    "#Setup device agnostic code\n",
    "device = \"cuda\" if torch.cuda.is_available() else \"cpu\"\n",
    "device"
   ]
  },
  {
   "cell_type": "code",
   "execution_count": 5,
   "id": "61d2e848-2cb9-4d7f-b9be-d1d1b49aa04a",
   "metadata": {},
   "outputs": [
    {
     "data": {
      "text/plain": [
       "1"
      ]
     },
     "execution_count": 5,
     "metadata": {},
     "output_type": "execute_result"
    }
   ],
   "source": [
    " torch.cuda.device_count()"
   ]
  },
  {
   "cell_type": "markdown",
   "id": "bb819957-5e47-44b3-9a7d-902943f49c62",
   "metadata": {},
   "source": [
    "### putting tensors on GPU"
   ]
  },
  {
   "cell_type": "code",
   "execution_count": 6,
   "id": "0a1cc4b1-c1ff-485a-8be5-0b8003fa0a1a",
   "metadata": {},
   "outputs": [
    {
     "name": "stdout",
     "output_type": "stream",
     "text": [
      "tensor([1, 2, 3]) cpu\n"
     ]
    }
   ],
   "source": [
    "# create tensors(default on the cpu)\n",
    "tensor=torch.tensor([1,2,3])\n",
    "\n",
    "#tensor not on gpu\n",
    "print(tensor,tensor.device)"
   ]
  },
  {
   "cell_type": "code",
   "execution_count": 7,
   "id": "0cadd761-56c0-4a1e-a47f-35ba46b9b2fa",
   "metadata": {},
   "outputs": [
    {
     "data": {
      "text/plain": [
       "tensor([1, 2, 3], device='cuda:0')"
      ]
     },
     "execution_count": 7,
     "metadata": {},
     "output_type": "execute_result"
    }
   ],
   "source": [
    "tensor_on_gpu = tensor.to(device)\n",
    "tensor_on_gpu"
   ]
  },
  {
   "cell_type": "code",
   "execution_count": 8,
   "id": "59aab72f-622b-45b4-a61b-ae3877ac580a",
   "metadata": {},
   "outputs": [],
   "source": [
    "# if tensor is on GPU, then tensor can't transform in numpy\n",
    "# tensor_on_gpu.numpy()"
   ]
  },
  {
   "cell_type": "code",
   "execution_count": 9,
   "id": "c244ad18-b86d-4866-a2db-4dcb480c9906",
   "metadata": {},
   "outputs": [
    {
     "data": {
      "text/plain": [
       "array([1, 2, 3])"
      ]
     },
     "execution_count": 9,
     "metadata": {},
     "output_type": "execute_result"
    }
   ],
   "source": [
    "tensor_on_cpu=tensor_on_gpu.cpu().numpy()\n",
    "tensor_on_cpu"
   ]
  },
  {
   "cell_type": "code",
   "execution_count": 10,
   "id": "2165cee9-96b9-440c-9f60-f27cfd20c200",
   "metadata": {},
   "outputs": [
    {
     "data": {
      "text/plain": [
       "'2.8.0+cu129'"
      ]
     },
     "execution_count": 10,
     "metadata": {},
     "output_type": "execute_result"
    }
   ],
   "source": [
    "torch.__version__"
   ]
  },
  {
   "cell_type": "markdown",
   "id": "67888f27-d330-41ac-9fad-58a8cd270678",
   "metadata": {},
   "source": [
    "# Machinee learning Started"
   ]
  },
  {
   "cell_type": "code",
   "execution_count": 11,
   "id": "23886876-4210-4860-b641-c40eed2aa9a1",
   "metadata": {},
   "outputs": [],
   "source": [
    "weight=0.7\n",
    "bais=0.3"
   ]
  },
  {
   "cell_type": "code",
   "execution_count": 12,
   "id": "f072003f-cf26-4c07-ac6c-0c74895dcb88",
   "metadata": {
    "scrolled": true
   },
   "outputs": [
    {
     "data": {
      "text/plain": [
       "(tensor([[1.0000],\n",
       "         [1.0200],\n",
       "         [1.0400],\n",
       "         [1.0600],\n",
       "         [1.0800],\n",
       "         [1.1000],\n",
       "         [1.1200],\n",
       "         [1.1400],\n",
       "         [1.1600],\n",
       "         [1.1800],\n",
       "         [1.2000],\n",
       "         [1.2200],\n",
       "         [1.2400],\n",
       "         [1.2600],\n",
       "         [1.2800],\n",
       "         [1.3000],\n",
       "         [1.3200],\n",
       "         [1.3400],\n",
       "         [1.3600],\n",
       "         [1.3800],\n",
       "         [1.4000],\n",
       "         [1.4200],\n",
       "         [1.4400],\n",
       "         [1.4600],\n",
       "         [1.4800],\n",
       "         [1.5000],\n",
       "         [1.5200],\n",
       "         [1.5400],\n",
       "         [1.5600],\n",
       "         [1.5800],\n",
       "         [1.6000],\n",
       "         [1.6200],\n",
       "         [1.6400],\n",
       "         [1.6600],\n",
       "         [1.6800],\n",
       "         [1.7000],\n",
       "         [1.7200],\n",
       "         [1.7400],\n",
       "         [1.7600],\n",
       "         [1.7800],\n",
       "         [1.8000],\n",
       "         [1.8200],\n",
       "         [1.8400],\n",
       "         [1.8600],\n",
       "         [1.8800],\n",
       "         [1.9000],\n",
       "         [1.9200],\n",
       "         [1.9400],\n",
       "         [1.9600],\n",
       "         [1.9800]]),\n",
       " tensor([[1.0000],\n",
       "         [1.0140],\n",
       "         [1.0280],\n",
       "         [1.0420],\n",
       "         [1.0560],\n",
       "         [1.0700],\n",
       "         [1.0840],\n",
       "         [1.0980],\n",
       "         [1.1120],\n",
       "         [1.1260],\n",
       "         [1.1400],\n",
       "         [1.1540],\n",
       "         [1.1680],\n",
       "         [1.1820],\n",
       "         [1.1960],\n",
       "         [1.2100],\n",
       "         [1.2240],\n",
       "         [1.2380],\n",
       "         [1.2520],\n",
       "         [1.2660],\n",
       "         [1.2800],\n",
       "         [1.2940],\n",
       "         [1.3080],\n",
       "         [1.3220],\n",
       "         [1.3360],\n",
       "         [1.3500],\n",
       "         [1.3640],\n",
       "         [1.3780],\n",
       "         [1.3920],\n",
       "         [1.4060],\n",
       "         [1.4200],\n",
       "         [1.4340],\n",
       "         [1.4480],\n",
       "         [1.4620],\n",
       "         [1.4760],\n",
       "         [1.4900],\n",
       "         [1.5040],\n",
       "         [1.5180],\n",
       "         [1.5320],\n",
       "         [1.5460],\n",
       "         [1.5600],\n",
       "         [1.5740],\n",
       "         [1.5880],\n",
       "         [1.6020],\n",
       "         [1.6160],\n",
       "         [1.6300],\n",
       "         [1.6440],\n",
       "         [1.6580],\n",
       "         [1.6720],\n",
       "         [1.6860]]))"
      ]
     },
     "execution_count": 12,
     "metadata": {},
     "output_type": "execute_result"
    }
   ],
   "source": [
    "start =1\n",
    "end =2\n",
    "step =0.02\n",
    "x=torch.arange(start,end,step).unsqueeze(dim=1)\n",
    "y=weight * x +bais\n",
    "\n",
    "x,y"
   ]
  },
  {
   "cell_type": "code",
   "execution_count": 13,
   "id": "c7014bf3-7c08-4d9c-97d6-785b5290e11c",
   "metadata": {
    "scrolled": true
   },
   "outputs": [
    {
     "data": {
      "text/plain": [
       "(tensor([[1.0000],\n",
       "         [1.0200],\n",
       "         [1.0400],\n",
       "         [1.0600],\n",
       "         [1.0800],\n",
       "         [1.1000],\n",
       "         [1.1200],\n",
       "         [1.1400],\n",
       "         [1.1600],\n",
       "         [1.1800],\n",
       "         [1.2000],\n",
       "         [1.2200],\n",
       "         [1.2400],\n",
       "         [1.2600],\n",
       "         [1.2800],\n",
       "         [1.3000],\n",
       "         [1.3200],\n",
       "         [1.3400],\n",
       "         [1.3600],\n",
       "         [1.3800]]),\n",
       " tensor([[1.0000],\n",
       "         [1.0140],\n",
       "         [1.0280],\n",
       "         [1.0420],\n",
       "         [1.0560],\n",
       "         [1.0700],\n",
       "         [1.0840],\n",
       "         [1.0980],\n",
       "         [1.1120],\n",
       "         [1.1260],\n",
       "         [1.1400],\n",
       "         [1.1540],\n",
       "         [1.1680],\n",
       "         [1.1820],\n",
       "         [1.1960],\n",
       "         [1.2100],\n",
       "         [1.2240],\n",
       "         [1.2380],\n",
       "         [1.2520],\n",
       "         [1.2660]]))"
      ]
     },
     "execution_count": 13,
     "metadata": {},
     "output_type": "execute_result"
    }
   ],
   "source": [
    "x[:20],y[:20]"
   ]
  },
  {
   "cell_type": "code",
   "execution_count": 14,
   "id": "605cb1fc-b834-405b-bedb-2ea3a44ee95a",
   "metadata": {},
   "outputs": [
    {
     "data": {
      "text/plain": [
       "(50, 50)"
      ]
     },
     "execution_count": 14,
     "metadata": {},
     "output_type": "execute_result"
    }
   ],
   "source": [
    "len(x),len(y)"
   ]
  },
  {
   "cell_type": "markdown",
   "id": "464f2864-5ff2-4063-98cb-233c14816afe",
   "metadata": {},
   "source": [
    "### Testing and Traning data"
   ]
  },
  {
   "cell_type": "code",
   "execution_count": 15,
   "id": "fb03dd2a-437c-4ade-9c04-62ff061d98e1",
   "metadata": {},
   "outputs": [
    {
     "data": {
      "text/plain": [
       "(40, 40, 10, 10)"
      ]
     },
     "execution_count": 15,
     "metadata": {},
     "output_type": "execute_result"
    }
   ],
   "source": [
    "#creat test and train data set\n",
    "train_split = int(0.8* len(x))\n",
    "x_train,y_train=x[:train_split],y[:train_split]\n",
    "x_test,y_test=x[train_split:],y[train_split:]\n",
    "len(x_train),len(y_train),len(x_test),len(y_test)"
   ]
  },
  {
   "cell_type": "code",
   "execution_count": 16,
   "id": "a9e5a47b-896f-4436-8072-4d01d4048e3b",
   "metadata": {},
   "outputs": [],
   "source": [
    "def plot_predictions (train_data=x_train,\n",
    "                      train_labels=y_train,\n",
    "                      test_data=x_test,\n",
    "                      test_labels=y_test,\n",
    "                      predictions=None): \n",
    "    \n",
    "    \"\"\"\n",
    "    Plots training data, test data and compares predictions.\n",
    "    \"\"\"\n",
    "\n",
    "    plt.figure(figsize=(10,7))\n",
    "    #Plot training data in blue\n",
    "    plt.scatter(x_train,y_train,c='b',label=\"traning data\",s=6)\n",
    "    #plot test data in green\n",
    "    plt.scatter(x_test,y_test,c='g',label='testing data',s=6)\n",
    "\n",
    "    if predictions is not None:\n",
    "        plt.scatter(x_test,predictions,c='r',label='pridected data',s=6)\n",
    "    plt.legend()    \n"
   ]
  },
  {
   "cell_type": "code",
   "execution_count": 17,
   "id": "2b6fb612-e720-42ff-ad9c-f0f06ce52748",
   "metadata": {},
   "outputs": [
    {
     "data": {
      "image/png": "[encoded data removed]",
      "text/plain": [
       "<Figure size 1000x700 with 1 Axes>"
      ]
     },
     "metadata": {},
     "output_type": "display_data"
    }
   ],
   "source": [
    "plot_predictions()"
   ]
  },
  {
   "cell_type": "markdown",
   "id": "34e9fc86-2b28-4443-9a44-b9a6e2125e2e",
   "metadata": {},
   "source": [
    "### building model\n",
    "first Pytorch model"
   ]
  },
  {
   "cell_type": "markdown",
   "id": "f679440b-da63-40c3-afeb-0e119fca5d6c",
   "metadata": {},
   "source": [
    "## PyTorch module                What does it do?\n",
    "\n",
    "**torch.nn**                      Contains all of the building blocks for computational graphs                                          (essentially a series of computations executed in a particular way).\n",
    "\n",
    "**torch.nn.Module**                The base class for all neural network modules, all the building blocks                                for neural networks are subclasses. If you're building a neural                                       network in PyTorch, your models should subclass nn. Module. Requires                                 forward () method be implemented.\n",
    "\n",
    "**torch.optim**                    Contains various optimization algorithms (these tell the model                                        parameters stored in nn. Parameter how to best change to improve                                      gradient descent and in turn reduce the loss).\n",
    "\n",
    "**torch.utils.data.Dataset**       Represents a map between key (label) and sample (features) pairs of                                   your data. Such as images and their associated labels.\n",
    "\n",
    "**torch.utils.data.DataLoader**    Creates a Python iterable over a torch Dataset (allows you to iterate                                 over your data)."
   ]
  },
  {
   "cell_type": "code",
   "execution_count": 18,
   "id": "baba921a-6661-43bd-adfd-a90d754f5f32",
   "metadata": {},
   "outputs": [],
   "source": [
    "# Create linear regression model class\n",
    "class LinearRegressionModel(nn.Module): # <- almost everything in PyTorch inherits\n",
    "    def __init__(self):\n",
    "        super().__init__()\n",
    "        self.weights= nn.Parameter(torch.randn(1,\n",
    "                                               requires_grad=True,\n",
    "                                               dtype=torch.float))\n",
    "        \n",
    "        self.bias= nn.Parameter(torch.randn(1,\n",
    "                                            requires_grad=True,\n",
    "                                            dtype=torch.float))\n",
    "            \n",
    "        #Forward method to define the computation in the model\n",
    "    def forward(self, x: torch.Tensor) -> torch.Tensor: # <- \"x\" is the input data\n",
    "        return self.weights*x + self.bias # this is the linear regression formula"
   ]
  },
  {
   "cell_type": "code",
   "execution_count": 19,
   "id": "4843084d-0888-4978-b43e-e0856f867e57",
   "metadata": {},
   "outputs": [
    {
     "data": {
      "text/plain": [
       "[Parameter containing:\n",
       " tensor([0.3367], requires_grad=True),\n",
       " Parameter containing:\n",
       " tensor([0.1288], requires_grad=True)]"
      ]
     },
     "execution_count": 19,
     "metadata": {},
     "output_type": "execute_result"
    }
   ],
   "source": [
    "#Create a random seed\n",
    "torch.manual_seed(42)\n",
    "# Create an instance of the model (this is a subclass of nn. Module)\n",
    "model_0= LinearRegressionModel()\n",
    "#Check out the parameters\n",
    "list(model_0.parameters())"
   ]
  },
  {
   "cell_type": "code",
   "execution_count": 20,
   "id": "ea141840-a73d-4bed-8477-7b7fafe87288",
   "metadata": {},
   "outputs": [
    {
     "data": {
      "text/plain": [
       "OrderedDict([('weights', tensor([0.3367])), ('bias', tensor([0.1288]))])"
      ]
     },
     "execution_count": 20,
     "metadata": {},
     "output_type": "execute_result"
    }
   ],
   "source": [
    "model_0.state_dict()"
   ]
  },
  {
   "cell_type": "markdown",
   "id": "3b490f8a-02e5-4620-b562-004104c62271",
   "metadata": {},
   "source": [
    "### Making prediction using torch.inference_mode()\n",
    "To check our model's predictive power, let's see how well it predicts y_test based on x_test.\n",
    "\n",
    "When we pass data through our model, it's going to run it through the forward() method."
   ]
  },
  {
   "cell_type": "code",
   "execution_count": 21,
   "id": "9ea39cde-e3e6-4869-a0cb-fc97882e3ae0",
   "metadata": {},
   "outputs": [
    {
     "data": {
      "text/plain": [
       "tensor([[1.8000],\n",
       "        [1.8200],\n",
       "        [1.8400],\n",
       "        [1.8600],\n",
       "        [1.8800],\n",
       "        [1.9000],\n",
       "        [1.9200],\n",
       "        [1.9400],\n",
       "        [1.9600],\n",
       "        [1.9800]])"
      ]
     },
     "execution_count": 21,
     "metadata": {},
     "output_type": "execute_result"
    }
   ],
   "source": [
    "x_test"
   ]
  },
  {
   "cell_type": "code",
   "execution_count": 22,
   "id": "69c471cb-460b-4c07-abb9-3f2c35a56cde",
   "metadata": {},
   "outputs": [
    {
     "data": {
      "text/plain": [
       "tensor([[1.5600],\n",
       "        [1.5740],\n",
       "        [1.5880],\n",
       "        [1.6020],\n",
       "        [1.6160],\n",
       "        [1.6300],\n",
       "        [1.6440],\n",
       "        [1.6580],\n",
       "        [1.6720],\n",
       "        [1.6860]])"
      ]
     },
     "execution_count": 22,
     "metadata": {},
     "output_type": "execute_result"
    }
   ],
   "source": [
    "y_test"
   ]
  },
  {
   "cell_type": "code",
   "execution_count": 23,
   "id": "4cd864f3-3462-46db-a952-330fecebffd7",
   "metadata": {},
   "outputs": [
    {
     "data": {
      "text/plain": [
       "tensor([[0.7349],\n",
       "        [0.7416],\n",
       "        [0.7483],\n",
       "        [0.7551],\n",
       "        [0.7618],\n",
       "        [0.7685],\n",
       "        [0.7753],\n",
       "        [0.7820],\n",
       "        [0.7887],\n",
       "        [0.7955]], grad_fn=<AddBackward0>)"
      ]
     },
     "execution_count": 23,
     "metadata": {},
     "output_type": "execute_result"
    }
   ],
   "source": [
    "ypred=model_0(x_test)\n",
    "ypred"
   ]
  },
  {
   "cell_type": "code",
   "execution_count": 24,
   "id": "9f0f14fa-efcd-4722-8686-dd08ee766355",
   "metadata": {},
   "outputs": [
    {
     "data": {
      "image/png": "[encoded data removed]",
      "text/plain": [
       "<Figure size 1000x700 with 1 Axes>"
      ]
     },
     "metadata": {},
     "output_type": "display_data"
    }
   ],
   "source": [
    "plot_predictions(predictions=ypred.detach())"
   ]
  },
  {
   "cell_type": "markdown",
   "id": "cdf265a6-ad2a-4f20-bcb9-d0a1dc2e0aa4",
   "metadata": {},
   "source": [
    "to avoid using detach() for **(grad_fn=<AddBackward0)**"
   ]
  },
  {
   "cell_type": "code",
   "execution_count": 25,
   "id": "01570d41-0729-4128-832f-d40ed035923e",
   "metadata": {},
   "outputs": [
    {
     "data": {
      "text/plain": [
       "tensor([[0.7349],\n",
       "        [0.7416],\n",
       "        [0.7483],\n",
       "        [0.7551],\n",
       "        [0.7618],\n",
       "        [0.7685],\n",
       "        [0.7753],\n",
       "        [0.7820],\n",
       "        [0.7887],\n",
       "        [0.7955]])"
      ]
     },
     "execution_count": 25,
     "metadata": {},
     "output_type": "execute_result"
    }
   ],
   "source": [
    "# make predictions with inference mode\n",
    "with torch.inference_mode():\n",
    "    y_preds=model_0(x_test)\n",
    "\n",
    "y_preds    "
   ]
  },
  {
   "cell_type": "code",
   "execution_count": 26,
   "id": "8bef14ae-8f7c-411a-8aef-5b413bdfd427",
   "metadata": {},
   "outputs": [
    {
     "data": {
      "image/png": "[encoded data removed]",
      "text/plain": [
       "<Figure size 1000x700 with 1 Axes>"
      ]
     },
     "metadata": {},
     "output_type": "display_data"
    }
   ],
   "source": [
    "plot_predictions(predictions=y_preds)"
   ]
  },
  {
   "cell_type": "markdown",
   "id": "880c7e81-9f41-443f-b8ed-4d48705aba94",
   "metadata": {},
   "source": [
    "## 3. Train model\n",
    "\n",
    "The whole idea of training is for a model to move from some unknown parameters (these may be random) to some known parameters.\n",
    "\n",
    "Or in other words from a poor representation of the data to a better representation of the data.\n",
    "\n",
    "One way to measure how poor or how wrong your models predictions are is to use a loss function.\n",
    "\n",
    "* Note: Loss function may also be called cost function or criterion in different areas. For our case, we're going to refer to it as a loss function.\n",
    "\n",
    "Things we need to train:\n",
    "\n",
    "* **Loss function:** A function to measure how wrong your model's predictions are to the ideal outputs, lower is better.\n",
    "  \n",
    "* **Optimizer:** Takes into account the loss of a model and adjusts the model's parameters (e.g. weight & bias in our case) to improve the loss function\n",
    "\n",
    " Inside the optimizer you'll often have to set two parameters:\n",
    "\n",
    "- params the model parameters you'd like to optimize, for example param=model_0.parameters()\n",
    "\n",
    "- lr (learning rate) - the learning rate is a hyperparameter that defines how big/small the optimizer changes the parameters with each step (a small lr results in small changes, a large lr results in large changes)\n",
    "\n",
    "And specifically for pytorch, we need:\n",
    "* A training loop\n",
    "* A test loop"
   ]
  },
  {
   "cell_type": "code",
   "execution_count": 27,
   "id": "08c00f9a-22f9-4edd-99e3-58ce7b7915d7",
   "metadata": {},
   "outputs": [],
   "source": [
    "#Setup a loss function\n",
    "loss_fn= nn.L1Loss()\n",
    "#Setup an optimizer (stochastic gradient descent)\n",
    "optimizer= torch.optim.SGD(params=model_0.parameters(),lr=0.004)\n",
    "#lr learning rate possibly the most important hyperparameter you can set"
   ]
  },
  {
   "cell_type": "markdown",
   "id": "596260da-93c4-4b9a-b1a7-f2d9cc28517e",
   "metadata": {},
   "source": [
    "### Building a training loop (and a testing loop) in PyTorch\n",
    "\n",
    "A couple of things we need in a training loop:\n",
    "\n",
    "0. Loop through the data\n",
    "1. Forward pass (this involves data moving through our model's forward()` functions) to make predictions on data also called forward propagation -\n",
    "2. Calculate the loss (compare forward pass predictions to ground truth labels)\n",
    "3. Optimizer zero grad\n",
    "4. Loss backward -move backwards through the network to calculate the gradients of each of the parameters of our model with respect to the loss (**Back propagation** )\n",
    "5. Optimizer step -use the optimizer to adjust our model's parameters to try and improve the loss (**Gradent Desent**)"
   ]
  },
  {
   "cell_type": "code",
   "execution_count": 28,
   "id": "ab2f6d17-82f0-4cf0-a223-13a42e13da06",
   "metadata": {},
   "outputs": [],
   "source": [
    "epochs=100"
   ]
  },
  {
   "cell_type": "code",
   "execution_count": 29,
   "id": "7dac07c1-627b-438d-aab5-163625d63f00",
   "metadata": {},
   "outputs": [
    {
     "name": "stdout",
     "output_type": "stream",
     "text": [
      "Epoch: 0 | loss: 0.676190972328186 | test loss: 0.84333735704422\n",
      "OrderedDict({'weights': tensor([0.3423]), 'bias': tensor([0.1328])})\n",
      "Epoch: 10 | loss: 0.5589069128036499 | test loss: 0.6982532143592834\n",
      "OrderedDict({'weights': tensor([0.3979]), 'bias': tensor([0.1728])})\n",
      "Epoch: 20 | loss: 0.4416228234767914 | test loss: 0.5531690716743469\n",
      "OrderedDict({'weights': tensor([0.4535]), 'bias': tensor([0.2128])})\n",
      "Epoch: 30 | loss: 0.32433873414993286 | test loss: 0.40808504819869995\n",
      "OrderedDict({'weights': tensor([0.5091]), 'bias': tensor([0.2528])})\n",
      "Epoch: 40 | loss: 0.20705492794513702 | test loss: 0.26300135254859924\n",
      "OrderedDict({'weights': tensor([0.5647]), 'bias': tensor([0.2928])})\n",
      "Epoch: 50 | loss: 0.08977112174034119 | test loss: 0.11791761964559555\n",
      "OrderedDict({'weights': tensor([0.6203]), 'bias': tensor([0.3328])})\n",
      "Epoch: 60 | loss: 0.008317748084664345 | test loss: 0.01920497417449951\n",
      "OrderedDict({'weights': tensor([0.6589]), 'bias': tensor([0.3584])})\n",
      "Epoch: 70 | loss: 0.007781779859215021 | test loss: 0.01800830289721489\n",
      "OrderedDict({'weights': tensor([0.6616]), 'bias': tensor([0.3546])})\n",
      "Epoch: 80 | loss: 0.00724578183144331 | test loss: 0.016811728477478027\n",
      "OrderedDict({'weights': tensor([0.6642]), 'bias': tensor([0.3508])})\n",
      "Epoch: 90 | loss: 0.006709778215736151 | test loss: 0.01561507023870945\n",
      "OrderedDict({'weights': tensor([0.6669]), 'bias': tensor([0.3470])})\n"
     ]
    }
   ],
   "source": [
    "###Training\n",
    "\n",
    "#tracking\n",
    "epoch_count=[]\n",
    "loss_values=[]\n",
    "test_loss_values=[]\n",
    "    \n",
    "\n",
    "#0. Loop through the data\n",
    "for epoch in range(epochs):\n",
    "    # Set the model to training mode\n",
    "    model_0.train() # train mode in PyTorch sets all parameters that require gradients to require gradients \n",
    "    \n",
    "    #1. Forward pass\n",
    "    y_pred=model_0(x_train)\n",
    "    \n",
    "    #2. Calculate the loss\n",
    "    loss=loss_fn(y_pred, y_train)\n",
    "    #print(\"loss:\",loss)\n",
    "    \n",
    "    #3. Optimizer zero grad \n",
    "    optimizer.zero_grad()\n",
    "    \n",
    "    #4. Perform backpropagation on the loss with respect to the parameters of the model \n",
    "    loss.backward()\n",
    "    \n",
    "    #5. Step the optimizer (perform gradient descent)\n",
    "    optimizer.step()\n",
    "\n",
    "    ### testing\n",
    "    model_0.eval() #turns off different settings in the model not needed for evaluation/testing (dropout/batch norm layers) \n",
    "    with torch.inference_mode(): #turns off gradient tracking & a couple more things behind the scenes\n",
    "    #you may also see torch.no grad() in older PyTorch code\n",
    "        \n",
    "        # 1. Do the forward pass\n",
    "        test_pred=model_0(x_test)\n",
    "        # 2. Calculate the losа\n",
    "        test_loss=loss_fn(test_pred, y_test)\n",
    "    if epoch% 10 == 0:\n",
    "        epoch_count.append(epoch)\n",
    "        loss_values.append(loss)\n",
    "        test_loss_values.append(test_loss)\n",
    "        print(f\"Epoch: {epoch} | loss: {loss} | test loss: {test_loss}\")\n",
    "        # Print out model state dict()                \n",
    "        print(model_0.state_dict())"
   ]
  },
  {
   "cell_type": "code",
   "execution_count": 30,
   "id": "2ae9e6eb-41bd-4849-bf41-10ed4f510cf3",
   "metadata": {
    "scrolled": true
   },
   "outputs": [],
   "source": [
    "# epoch_count,loss_values,test_loss_values"
   ]
  },
  {
   "cell_type": "code",
   "execution_count": 31,
   "id": "7f879664-d596-4dc2-875a-4bc5f81f9058",
   "metadata": {},
   "outputs": [
    {
     "name": "stderr",
     "output_type": "stream",
     "text": [
      "C:\\Users\\Lenovo\\AppData\\Local\\Temp\\ipykernel_1296\\1775091432.py:2: UserWarning: Converting a tensor with requires_grad=True to a scalar may lead to unexpected behavior.\n",
      "Consider using tensor.detach() first. (Triggered internally at C:\\actions-runner\\_work\\pytorch\\pytorch\\pytorch\\torch\\csrc\\autograd\\generated\\python_variable_methods.cpp:836.)\n",
      "  plt.plot(epoch_count, np.array(torch.tensor(loss_values).numpy()), label=\"Train loss\")\n"
     ]
    },
    {
     "data": {
      "text/plain": [
       "<matplotlib.legend.Legend at 0x20f5ad7f110>"
      ]
     },
     "execution_count": 31,
     "metadata": {},
     "output_type": "execute_result"
    },
    {
     "data": {
      "image/png": "[encoded data removed]",
      "text/plain": [
       "<Figure size 640x480 with 1 Axes>"
      ]
     },
     "metadata": {},
     "output_type": "display_data"
    }
   ],
   "source": [
    "#Plot the loss curves\n",
    "plt.plot(epoch_count, np.array(torch.tensor(loss_values).numpy()), label=\"Train loss\")\n",
    "plt.plot(epoch_count,  np.array(torch.tensor(test_loss_values).numpy()), label=\"Test loss\")\n",
    "plt.title(\"Training and test loss curves\")\n",
    "plt.ylabel(\"Loss\")\n",
    "plt.xlabel(\"Epochs\")\n",
    "plt.legend()"
   ]
  },
  {
   "cell_type": "code",
   "execution_count": 32,
   "id": "31e93da0-4bce-40d1-9367-226fdecc489a",
   "metadata": {},
   "outputs": [],
   "source": [
    "#optimizer.state_dict()"
   ]
  },
  {
   "cell_type": "code",
   "execution_count": 33,
   "id": "89440697-64cf-4170-aa36-beb0159bc32c",
   "metadata": {},
   "outputs": [
    {
     "data": {
      "text/plain": [
       "OrderedDict([('weights', tensor([0.6693])), ('bias', tensor([0.3436]))])"
      ]
     },
     "execution_count": 33,
     "metadata": {},
     "output_type": "execute_result"
    }
   ],
   "source": [
    "model_0.state_dict()"
   ]
  },
  {
   "cell_type": "code",
   "execution_count": 34,
   "id": "8131f513-34d9-4599-b9af-1d33c32701ad",
   "metadata": {},
   "outputs": [
    {
     "data": {
      "text/plain": [
       "(0.7, 0.3)"
      ]
     },
     "execution_count": 34,
     "metadata": {},
     "output_type": "execute_result"
    }
   ],
   "source": [
    "weight,bais"
   ]
  },
  {
   "cell_type": "code",
   "execution_count": 35,
   "id": "1e654030-cd53-4c86-8769-9741101a5ca3",
   "metadata": {},
   "outputs": [
    {
     "data": {
      "text/plain": [
       "tensor([[1.5483],\n",
       "        [1.5617],\n",
       "        [1.5751],\n",
       "        [1.5885],\n",
       "        [1.6018],\n",
       "        [1.6152],\n",
       "        [1.6286],\n",
       "        [1.6420],\n",
       "        [1.6554],\n",
       "        [1.6688]])"
      ]
     },
     "execution_count": 35,
     "metadata": {},
     "output_type": "execute_result"
    }
   ],
   "source": [
    "with torch.inference_mode():\n",
    "    y_preds_new=model_0(x_test)\n",
    "y_preds_new    "
   ]
  },
  {
   "cell_type": "code",
   "execution_count": 36,
   "id": "6829beb6-0acc-4e41-a0f4-05169b8e5aaf",
   "metadata": {},
   "outputs": [
    {
     "data": {
      "image/png": "[encoded data removed]",
      "text/plain": [
       "<Figure size 1000x700 with 1 Axes>"
      ]
     },
     "metadata": {},
     "output_type": "display_data"
    }
   ],
   "source": [
    "plot_predictions(predictions=y_preds_new)"
   ]
  },
  {
   "cell_type": "markdown",
   "id": "9deee17e-2a70-478a-982a-412021a97d10",
   "metadata": {},
   "source": [
    "## Saving a model in PyTorch\n",
    "There are three main methods you should about for saving and loading models in PyTorch.\n",
    "1. `torch.save()` -allows you save a PyTorch object in Python's pickle format\n",
    "2. `torch.load()` - allows you load a saved PyTorch object\n",
    "3. `torch.nn.Module.load_state_dict()` this allows to load a model's saved state dictionary"
   ]
  },
  {
   "cell_type": "code",
   "execution_count": 37,
   "id": "c84f96a5-0d65-443f-9c05-45c7c5696484",
   "metadata": {},
   "outputs": [
    {
     "name": "stdout",
     "output_type": "stream",
     "text": [
      "Saving model to: models\\pytorch_model_1.pth\n"
     ]
    }
   ],
   "source": [
    "#Saving our PyTorch model\n",
    "from pathlib import Path\n",
    "#1. Create models directory\n",
    "MODEL_PATH = Path(\"models\")\n",
    "MODEL_PATH.mkdir(parents=True, exist_ok=True)\n",
    "#2. Create model save path\n",
    "MODEL_NAME = \"pytorch_model_1.pth\"\n",
    "MODEL_SAVE_PATH = MODEL_PATH / MODEL_NAME\n",
    "#3. Save the model state dict\n",
    "print(f\"Saving model to: {MODEL_SAVE_PATH}\")\n",
    "torch.save(obj=model_0.state_dict(),\n",
    "            f=MODEL_SAVE_PATH)"
   ]
  },
  {
   "cell_type": "code",
   "execution_count": 38,
   "id": "5190b4dd-c2ab-4daf-80fa-12b3a36d41dc",
   "metadata": {},
   "outputs": [],
   "source": [
    "# torch.save(model_0.state_dict(), \"model.pth\") is enough."
   ]
  },
  {
   "cell_type": "code",
   "execution_count": 39,
   "id": "2bb32e6a-eee2-4887-a1ba-fc00bdcac83e",
   "metadata": {},
   "outputs": [],
   "source": [
    " torch.save(model_0.state_dict(), \"model.pth\")"
   ]
  },
  {
   "cell_type": "markdown",
   "id": "914fe1d7-aef6-4bbb-9ff1-002c66d12555",
   "metadata": {},
   "source": [
    "## Loading a PyTorch model\n",
    "Since we saved our model's state_dict() rather the entire model, we'll create a new instance of our model class and load the saved\n",
    "state_dict() into that."
   ]
  },
  {
   "cell_type": "code",
   "execution_count": 40,
   "id": "97c386ca-0c28-4248-a4b7-101c490b1469",
   "metadata": {},
   "outputs": [
    {
     "data": {
      "text/plain": [
       "OrderedDict([('weights', tensor([0.6693])), ('bias', tensor([0.3436]))])"
      ]
     },
     "execution_count": 40,
     "metadata": {},
     "output_type": "execute_result"
    }
   ],
   "source": [
    "model_0.state_dict()"
   ]
  },
  {
   "cell_type": "code",
   "execution_count": 41,
   "id": "3c58ac2d-20af-422b-8492-99999b79c23d",
   "metadata": {},
   "outputs": [
    {
     "data": {
      "text/plain": [
       "<All keys matched successfully>"
      ]
     },
     "execution_count": 41,
     "metadata": {},
     "output_type": "execute_result"
    }
   ],
   "source": [
    "1# To load in a saved state dict we have to instantiate a new instance of our model class\n",
    "loaded_model_0=LinearRegressionModel()\n",
    "\n",
    "# Load the saved state_dict of model_0 (this will update the new instance with updated parameters)\n",
    "#loaded_model_0.load_state_dict(torch.load(f=MODEL_SAVE_PATH))\n",
    "loaded_model_0.load_state_dict(torch.load(\"model.pth\"))"
   ]
  },
  {
   "cell_type": "code",
   "execution_count": 42,
   "id": "0820dde7-ef14-4d50-9455-e9722c9e0ddb",
   "metadata": {},
   "outputs": [
    {
     "data": {
      "text/plain": [
       "OrderedDict([('weights', tensor([0.6693])), ('bias', tensor([0.3436]))])"
      ]
     },
     "execution_count": 42,
     "metadata": {},
     "output_type": "execute_result"
    }
   ],
   "source": [
    "loaded_model_0.state_dict()"
   ]
  },
  {
   "cell_type": "code",
   "execution_count": 43,
   "id": "7f65ce05-ac99-407e-8359-e2113b543f33",
   "metadata": {},
   "outputs": [
    {
     "data": {
      "text/plain": [
       "tensor([[1.5483],\n",
       "        [1.5617],\n",
       "        [1.5751],\n",
       "        [1.5885],\n",
       "        [1.6018],\n",
       "        [1.6152],\n",
       "        [1.6286],\n",
       "        [1.6420],\n",
       "        [1.6554],\n",
       "        [1.6688]])"
      ]
     },
     "execution_count": 43,
     "metadata": {},
     "output_type": "execute_result"
    }
   ],
   "source": [
    "#Make some predictions with our loaded model\n",
    "loaded_model_0.eval()\n",
    "with torch.inference_mode():\n",
    "    loaded_model_preds=loaded_model_0(x_test)\n",
    "loaded_model_preds"
   ]
  },
  {
   "cell_type": "markdown",
   "id": "fd05bd7c-cda9-42d4-bfa9-47e634d23138",
   "metadata": {},
   "source": [
    "#### Create device-agnostic code.\n",
    "\n",
    "This means if we've got access to a GPU, our code will use it (for potentially faster computing).\n",
    "If no GPU is available, the code will default to using CPU"
   ]
  },
  {
   "cell_type": "code",
   "execution_count": 44,
   "id": "f9b8f44a-7eb0-439d-bacc-24dc57d85e75",
   "metadata": {},
   "outputs": [
    {
     "data": {
      "text/plain": [
       "True"
      ]
     },
     "execution_count": 44,
     "metadata": {},
     "output_type": "execute_result"
    }
   ],
   "source": [
    "torch.cuda.is_available()"
   ]
  },
  {
   "cell_type": "code",
   "execution_count": 45,
   "id": "98b0113c-2292-40a7-b24c-ef5d445bc190",
   "metadata": {},
   "outputs": [
    {
     "data": {
      "text/plain": [
       "'cuda'"
      ]
     },
     "execution_count": 45,
     "metadata": {},
     "output_type": "execute_result"
    }
   ],
   "source": [
    "#Setup device agnostic code\n",
    "device = \"cuda\" if torch.cuda.is_available() else \"cpu\"\n",
    "device"
   ]
  },
  {
   "cell_type": "markdown",
   "id": "d2863415-2c72-435d-b73a-f803ff7c1e47",
   "metadata": {},
   "source": [
    "## creating pytorch linear model"
   ]
  },
  {
   "cell_type": "code",
   "execution_count": 46,
   "id": "4b58855f-6178-419f-848d-31db55e74f21",
   "metadata": {},
   "outputs": [],
   "source": [
    "#Create a linear model by subclassing nn. Module\n",
    "class LinearRegressionModelV2(nn.Module):\n",
    "    def __init__ (self):\n",
    "        super().__init__()\n",
    "        #Use nn.Linear() for creating the model parameters\n",
    "        self.linear_layer=nn.Linear(in_features=1,\n",
    "                                    out_features=1)\n",
    "    def forward(self, x: torch.Tensor) -> torch.Tensor:\n",
    "        return self.linear_layer(x)"
   ]
  },
  {
   "cell_type": "code",
   "execution_count": 47,
   "id": "da459d1f-08cf-4055-b0ff-c82ed351df71",
   "metadata": {},
   "outputs": [
    {
     "data": {
      "text/plain": [
       "(LinearRegressionModelV2(\n",
       "   (linear_layer): Linear(in_features=1, out_features=1, bias=True)\n",
       " ),\n",
       " OrderedDict([('linear_layer.weight', tensor([[0.7645]])),\n",
       "              ('linear_layer.bias', tensor([0.8300]))]))"
      ]
     },
     "execution_count": 47,
     "metadata": {},
     "output_type": "execute_result"
    }
   ],
   "source": [
    "torch.manual_seed(42)\n",
    "model_1 = LinearRegressionModelV2()\n",
    "model_1,model_1.state_dict()"
   ]
  },
  {
   "cell_type": "code",
   "execution_count": 48,
   "id": "6fa2acb8-84d5-4f2c-83e6-bc87d63b7046",
   "metadata": {},
   "outputs": [
    {
     "data": {
      "text/plain": [
       "(tensor([[1.0000],\n",
       "         [1.0200],\n",
       "         [1.0400],\n",
       "         [1.0600],\n",
       "         [1.0800]]),\n",
       " tensor([[1.0000],\n",
       "         [1.0140],\n",
       "         [1.0280],\n",
       "         [1.0420],\n",
       "         [1.0560]]))"
      ]
     },
     "execution_count": 48,
     "metadata": {},
     "output_type": "execute_result"
    }
   ],
   "source": [
    "x_train[:5],y_train[:5]"
   ]
  },
  {
   "cell_type": "code",
   "execution_count": 49,
   "id": "8cb6d569-9ec4-444a-b29f-672ba69583ba",
   "metadata": {},
   "outputs": [
    {
     "data": {
      "text/plain": [
       "device(type='cuda', index=0)"
      ]
     },
     "execution_count": 49,
     "metadata": {},
     "output_type": "execute_result"
    }
   ],
   "source": [
    "#set the model to use the target device\n",
    "model_1.to(device)\n",
    "next(model_1.parameters()).device"
   ]
  },
  {
   "cell_type": "markdown",
   "id": "68d40e18-385f-49d3-b10a-faf09b04e1c8",
   "metadata": {},
   "source": [
    "### 6.3 Training\n",
    "For training we need:\n",
    "* Loss function\n",
    "* Optimizer\n",
    "* Training loop\n",
    "* Testing loop"
   ]
  },
  {
   "cell_type": "code",
   "execution_count": 50,
   "id": "83b6b7f5-d693-4c0f-af24-002ce9884f81",
   "metadata": {},
   "outputs": [],
   "source": [
    "#setup loss function\n",
    "loss_fn=nn.L1Loss() # MAE\n",
    "\n",
    "#setup optimizer\n",
    "optimizer=torch.optim.SGD(params=model_1.parameters(),lr=0.001)"
   ]
  },
  {
   "cell_type": "code",
   "execution_count": 51,
   "id": "2e9c4f6f-f891-4a6c-ab90-e171c93f04f1",
   "metadata": {},
   "outputs": [
    {
     "name": "stdout",
     "output_type": "stream",
     "text": [
      "Epoch: 0 | loss: 0.6197165250778198 | test loss: 0.6483587026596069\n",
      "Epoch: 500 | loss: 0.04140276461839676 | test loss: 0.0961308628320694\n",
      "Epoch: 1000 | loss: 0.034702617675065994 | test loss: 0.08098297566175461\n",
      "Epoch: 1500 | loss: 0.028004154562950134 | test loss: 0.06546606868505478\n",
      "Epoch: 2000 | loss: 0.021307775750756264 | test loss: 0.0497523657977581\n",
      "Epoch: 2500 | loss: 0.014611000195145607 | test loss: 0.034130778163671494\n",
      "Epoch: 3000 | loss: 0.007914820685982704 | test loss: 0.01832519844174385\n",
      "Epoch: 3500 | loss: 0.0012178838951513171 | test loss: 0.0027975679840892553\n"
     ]
    }
   ],
   "source": [
    "#traing loop\n",
    "torch.manual_seed(42)\n",
    "epochs=4000\n",
    "\n",
    "x_train=x_train.to(device)\n",
    "y_train=y_train.to(device)\n",
    "x_test=x_test.to(device)\n",
    "y_test=y_test.to(device)\n",
    "\n",
    "for epoch in range(epochs):\n",
    "    # Set the model to training mode\n",
    "    model_1.train()\n",
    "    \n",
    "    #1. Forward pass\n",
    "    y_pred=model_1(x_train)\n",
    "    \n",
    "    #2. Calculate the loss\n",
    "    loss=loss_fn(y_pred, y_train)\n",
    "    \n",
    "    #3. Optimizer zero grad \n",
    "    optimizer.zero_grad()\n",
    "    \n",
    "    #4. backpropagation \n",
    "    loss.backward()\n",
    "    \n",
    "    #5. Step the optimizer (perform gradient descent)\n",
    "    optimizer.step()\n",
    "\n",
    "    ### testing\n",
    "    model_1.eval() \n",
    "    with torch.inference_mode():\n",
    "        \n",
    "        # 1. Do the forward pass\n",
    "        test_pred=model_1(x_test)\n",
    "        \n",
    "        # 2. Calculate the losа\n",
    "        test_loss=loss_fn(test_pred, y_test)\n",
    "    if epoch% 500 == 0:\n",
    "        print(f\"Epoch: {epoch} | loss: {loss} | test loss: {test_loss}\")"
   ]
  },
  {
   "cell_type": "code",
   "execution_count": 52,
   "id": "d92e7941-2dd8-4a33-9034-8f8106692c5d",
   "metadata": {},
   "outputs": [
    {
     "data": {
      "text/plain": [
       "OrderedDict([('linear_layer.weight', tensor([[0.6976]], device='cuda:0')),\n",
       "             ('linear_layer.bias', tensor([0.3045], device='cuda:0'))])"
      ]
     },
     "execution_count": 52,
     "metadata": {},
     "output_type": "execute_result"
    }
   ],
   "source": [
    "model_1.state_dict()"
   ]
  },
  {
   "cell_type": "code",
   "execution_count": 53,
   "id": "7cd97ff5-778d-4fed-9651-2a185603022e",
   "metadata": {},
   "outputs": [
    {
     "data": {
      "text/plain": [
       "(tensor([[1.5601],\n",
       "         [1.5740],\n",
       "         [1.5880],\n",
       "         [1.6019],\n",
       "         [1.6159],\n",
       "         [1.6299],\n",
       "         [1.6438],\n",
       "         [1.6578],\n",
       "         [1.6717],\n",
       "         [1.6857]], device='cuda:0'),\n",
       " tensor([[1.5600],\n",
       "         [1.5740],\n",
       "         [1.5880],\n",
       "         [1.6020],\n",
       "         [1.6160],\n",
       "         [1.6300],\n",
       "         [1.6440],\n",
       "         [1.6580],\n",
       "         [1.6720],\n",
       "         [1.6860]], device='cuda:0'))"
      ]
     },
     "execution_count": 53,
     "metadata": {},
     "output_type": "execute_result"
    }
   ],
   "source": [
    "model_1.eval()\n",
    "with torch.inference_mode():\n",
    "    y_preds=model_1(x_test)\n",
    "y_preds ,y_test   "
   ]
  },
  {
   "cell_type": "code",
   "execution_count": 54,
   "id": "3b707603-6369-48d3-8351-0fe5d59d6f31",
   "metadata": {},
   "outputs": [],
   "source": [
    "def plot_predictions(predictions,x_train=x_train, y_train=y_train, x_test=x_test, y_test=y_test):\n",
    "\n",
    "    plt.figure(figsize=(10,7))\n",
    "    plt.scatter(x_train.cpu(), y_train.cpu(), c='b', label=\"training data\", s=6)\n",
    "    plt.scatter(x_test.cpu(), y_test.cpu(), c='g', label=\"testing data\", s=6)\n",
    "    if predictions!=None:\n",
    "        plt.scatter(x_test.cpu(), predictions.cpu(), c='r', label=\"predictions\", s=6)\n",
    "    plt.legend()\n",
    "    plt.show()\n"
   ]
  },
  {
   "cell_type": "code",
   "execution_count": 55,
   "id": "7d01fc39-ff0c-4aa5-be03-6f85780b64d0",
   "metadata": {},
   "outputs": [
    {
     "data": {
      "image/png": "[encoded data removed]",
      "text/plain": [
       "<Figure size 1000x700 with 1 Axes>"
      ]
     },
     "metadata": {},
     "output_type": "display_data"
    }
   ],
   "source": [
    "plot_predictions(predictions=y_preds)"
   ]
  },
  {
   "cell_type": "code",
   "execution_count": 56,
   "id": "770450e1-a6d6-4a70-a58b-14e8b262adc2",
   "metadata": {},
   "outputs": [],
   "source": [
    "torch.save(model_1.state_dict(),'model_1.pth')"
   ]
  },
  {
   "cell_type": "code",
   "execution_count": 57,
   "id": "2dea2812-e704-478b-a5d2-544ab2e571f1",
   "metadata": {},
   "outputs": [],
   "source": [
    "loaded_model_1=LinearRegressionModelV2()"
   ]
  },
  {
   "cell_type": "code",
   "execution_count": 58,
   "id": "7a7064bb-a18d-49db-89a8-7d605bf2fb8e",
   "metadata": {},
   "outputs": [
    {
     "data": {
      "text/plain": [
       "LinearRegressionModelV2(\n",
       "  (linear_layer): Linear(in_features=1, out_features=1, bias=True)\n",
       ")"
      ]
     },
     "execution_count": 58,
     "metadata": {},
     "output_type": "execute_result"
    }
   ],
   "source": [
    "loaded_model_1.to(device)"
   ]
  },
  {
   "cell_type": "code",
   "execution_count": 59,
   "id": "7ccbecfe-4e60-4368-82fe-c543cb44615b",
   "metadata": {},
   "outputs": [
    {
     "data": {
      "text/plain": [
       "<All keys matched successfully>"
      ]
     },
     "execution_count": 59,
     "metadata": {},
     "output_type": "execute_result"
    }
   ],
   "source": [
    "loaded_model_1.load_state_dict(torch.load(\"model_1.pth\"))"
   ]
  },
  {
   "cell_type": "code",
   "execution_count": 60,
   "id": "50a69fc6-4a8c-4d34-8129-3825c3c0aea3",
   "metadata": {},
   "outputs": [
    {
     "data": {
      "text/plain": [
       "device(type='cuda', index=0)"
      ]
     },
     "execution_count": 60,
     "metadata": {},
     "output_type": "execute_result"
    }
   ],
   "source": [
    "next(loaded_model_1.parameters()).device"
   ]
  },
  {
   "cell_type": "code",
   "execution_count": null,
   "id": "a565bf25-4481-4232-aa81-2794a613c72d",
   "metadata": {},
   "outputs": [],
   "source": []
  }
 ],
 "metadata": {
  "kernelspec": {
   "display_name": "Python 3 (ipykernel)",
   "language": "python",
   "name": "python3"
  },
  "language_info": {
   "codemirror_mode": {
    "name": "ipython",
    "version": 3
   },
   "file_extension": ".py",
   "mimetype": "text/x-python",
   "name": "python",
   "nbconvert_exporter": "python",
   "pygments_lexer": "ipython3",
   "version": "3.13.5"
  }
 },
 "nbformat": 4,
 "nbformat_minor": 5
}
